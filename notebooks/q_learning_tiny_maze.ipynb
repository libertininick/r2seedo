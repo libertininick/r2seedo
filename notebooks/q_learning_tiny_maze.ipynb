{
 "cells": [
  {
   "cell_type": "markdown",
   "metadata": {},
   "source": [
    "# A Simple Q-Learning example\n",
    "![tiny-maze](./assets/tiny-maze.jpg)\n",
    "\n",
    "Images credit: https://huggingface.co/learn/deep-rl-course\n",
    "\n",
    "### Environment:\n",
    "- 6 cell grid, and the mouse always starts in the same spot (upper left)\n",
    "- The goal is to eat the big pile of cheese at the bottom right-hand corner and avoid the poison\n",
    "- Mouse can move left, right, up, down\n",
    "- Can take a maximum of 5 steps per episode\n",
    "- Episode ends if mouse eats poison or big cheese or after taking five steps\n",
    "\n",
    "### Reward function:\n",
    "- +10 for eating big pile of cheese\n",
    "-  +1 for eating small cheese\n",
    "- -10 for eating poison\n",
    "-  +0 for going to a state with no cheese in it"
   ]
  },
  {
   "cell_type": "code",
   "execution_count": 1,
   "metadata": {},
   "outputs": [
    {
     "name": "stdout",
     "output_type": "stream",
     "text": [
      "2D reward map:\n",
      "tensor([[  0.,   1.,   0.],\n",
      "        [  0., -10.,  10.]])\n",
      "\n",
      "Flattened reward map:\n",
      "tensor([[  0.],\n",
      "        [  1.],\n",
      "        [  0.],\n",
      "        [  0.],\n",
      "        [-10.],\n",
      "        [ 10.]])\n"
     ]
    }
   ],
   "source": [
    "import math\n",
    "\n",
    "import pandas as pd\n",
    "import torch\n",
    "from matplotlib import pyplot as plt\n",
    "from torch import Tensor\n",
    "\n",
    "# (x, y) actions\n",
    "ACTIONS = torch.tensor(\n",
    "    [\n",
    "        [-1, 0],  # left\n",
    "        [1, 0],  # right\n",
    "        [0, -1],  # up\n",
    "        [0, 1],  # down\n",
    "    ]\n",
    ")\n",
    "NUM_ACTIONS = ACTIONS.shape[0]\n",
    "REWARDS = torch.tensor([[0.0, 1.0, 0.0], [0.0, -10.0, 10.0]])\n",
    "NUM_STATES = math.prod(REWARDS.shape)\n",
    "\n",
    "print(\"2D reward map:\")\n",
    "print(REWARDS)\n",
    "\n",
    "print(\"\\nFlattened reward map:\")\n",
    "print(REWARDS.flatten()[:, None])"
   ]
  },
  {
   "cell_type": "markdown",
   "metadata": {},
   "source": [
    "# Define state transitions\n",
    "\n",
    "- Assume the 2x3 grid does not wrap around itself\n",
    "    - i.e. if you are at left edge and you choose to move left, you stay at the same spot\n",
    "- Assume the transition from one cell to the next is completely deterministic \n",
    "    - i.e. if you choose to move left (and are able), you go left 100% of the time\n",
    "    - this is in contrast to a stochastic environment (e.g. a slippery grid) where the\n",
    "    chosen action my not result in the intended effect 100% of the time"
   ]
  },
  {
   "cell_type": "code",
   "execution_count": 2,
   "metadata": {},
   "outputs": [
    {
     "name": "stdout",
     "output_type": "stream",
     "text": [
      "\n",
      "State transitions:\n",
      "tensor([[0, 1, 0, 3],\n",
      "        [0, 2, 1, 4],\n",
      "        [1, 2, 2, 5],\n",
      "        [3, 4, 0, 3],\n",
      "        [3, 5, 1, 4],\n",
      "        [4, 5, 2, 5]])\n"
     ]
    }
   ],
   "source": [
    "def init_state_transitions(grid_shape: tuple[int, int], actions: Tensor) -> Tensor:\n",
    "    \"\"\"Initialize deterministic state transition matrix for a 2D grid world.\n",
    "\n",
    "    Parameters\n",
    "    ----------\n",
    "    grid_shape : tuple[int, int]\n",
    "        The shape of the grid world.\n",
    "    actions : Tensor[num_act, 2]\n",
    "        The set of (dx, dy) actions available to agent at each state.\n",
    "\n",
    "    Returns\n",
    "    -------\n",
    "    next_states : Tensor[num_states, num_act]\n",
    "        The next state indices for each state-action pair.\n",
    "    \"\"\"\n",
    "    h, w = grid_shape\n",
    "\n",
    "    # Define 2D coordinates for each cell in the grid: (2, h, w)\n",
    "    xy_coords = torch.stack(\n",
    "        torch.meshgrid(torch.arange(w), torch.arange(h), indexing=\"xy\"), dim=0\n",
    "    )\n",
    "\n",
    "    # Apply each action to each state to get coordinates of the next state\n",
    "    # (num_act, 2, 1, 1) + (1, 2, h, w) -> (num_act, 2, h, w)\n",
    "    next_xy_coords = actions[..., None, None] + xy_coords[None, ...]\n",
    "\n",
    "    # Clip out-of-bounds coordinates\n",
    "    lb = torch.tensor([0, 0]).view(1, 2, 1, 1)\n",
    "    ub = torch.tensor([w - 1, h - 1]).view(1, 2, 1, 1)\n",
    "    next_xy_coords = next_xy_coords.clamp(lb, ub)\n",
    "\n",
    "    # Convert 2D coordinates to 1D state indices\n",
    "    # (num_act, 2, h, w) -> (num_act, h, w)\n",
    "    next_states = next_xy_coords[:, 1, ...] * w + next_xy_coords[:, 0, ...]\n",
    "\n",
    "    # Flatten the state indices\n",
    "    # (num_act, h, w) -> (num_act, num_states)\n",
    "    next_states = next_states.view(actions.size(0), -1)\n",
    "\n",
    "    # Transpose: (num_states, num_act)\n",
    "    return next_states.T\n",
    "\n",
    "\n",
    "next_states = init_state_transitions(REWARDS.shape, ACTIONS)\n",
    "\n",
    "print(\"\\nState transitions:\")\n",
    "print(next_states)"
   ]
  },
  {
   "cell_type": "markdown",
   "metadata": {},
   "source": [
    "# Define update for Q-table\n",
    "\n",
    "![update-formula](assets/q-table-update.png)"
   ]
  },
  {
   "cell_type": "code",
   "execution_count": 3,
   "metadata": {},
   "outputs": [],
   "source": [
    "def update_q_table(\n",
    "    q_table: Tensor,\n",
    "    state_action: tuple[int, int],\n",
    "    reward: float,\n",
    "    next_state: int | None,\n",
    "    gamma: float,\n",
    "    learning_rate: float,\n",
    ") -> Tensor:\n",
    "    \"\"\"Update Q-table (state, action) pair.\n",
    "\n",
    "    Parameters\n",
    "    ----------\n",
    "    q_table: Tensor[num_states, num_act, dtype=float32]\n",
    "        The Q-table to update.\n",
    "    state_action: tuple[int, int]\n",
    "        State-action pair to update.\n",
    "    reward: float\n",
    "        The reward | action.\n",
    "    next_state: int | None\n",
    "        The next state | action.\n",
    "    gamma : float\n",
    "        Future value discount factor.\n",
    "    learning_rate : float\n",
    "        Learning rate.\n",
    "\n",
    "    Returns\n",
    "    -------\n",
    "    updated_q_table: Tensor[num_states, num_act, dtype=float32]\n",
    "        The updated Q-table.\n",
    "    \"\"\"\n",
    "    # Compute the maximum Q-value for next state\n",
    "    max_q_value = 0.0\n",
    "    if next_state is not None:\n",
    "        max_q_value = q_table[next_state].max(dim=-1).values\n",
    "\n",
    "    # Compute the temporal difference target\n",
    "    td_target = reward + gamma * max_q_value\n",
    "\n",
    "    # Compute update for state-action pair\n",
    "    state, action = state_action\n",
    "    q_table[state, action] = (\n",
    "        q_table[state, action] * (1 - learning_rate) + learning_rate * td_target\n",
    "    )\n",
    "\n",
    "    return q_table"
   ]
  },
  {
   "cell_type": "markdown",
   "metadata": {},
   "source": [
    "# 1. Initialize Q-table"
   ]
  },
  {
   "cell_type": "code",
   "execution_count": 4,
   "metadata": {},
   "outputs": [
    {
     "data": {
      "text/plain": [
       "tensor([[0., 0., 0., 0.],\n",
       "        [0., 0., 0., 0.],\n",
       "        [0., 0., 0., 0.],\n",
       "        [0., 0., 0., 0.],\n",
       "        [0., 0., 0., 0.],\n",
       "        [0., 0., 0., 0.]])"
      ]
     },
     "execution_count": 4,
     "metadata": {},
     "output_type": "execute_result"
    }
   ],
   "source": [
    "def init_q_table(num_states: int, num_actions: int) -> Tensor:\n",
    "    \"\"\"Initialize the Q-table with zeros for all (state, action) pairs.\"\"\"\n",
    "    return torch.zeros(num_states, num_actions)\n",
    "\n",
    "\n",
    "q_table = init_q_table(NUM_STATES, NUM_ACTIONS)\n",
    "q_table"
   ]
  },
  {
   "cell_type": "markdown",
   "metadata": {},
   "source": [
    "# 2. Define epsilon-greedy policy"
   ]
  },
  {
   "cell_type": "code",
   "execution_count": 5,
   "metadata": {},
   "outputs": [],
   "source": [
    "def get_action(q_table: Tensor, state: int, epsilon: float) -> int:\n",
    "    \"\"\"Select an action using an epsilon-greedy strategy.\"\"\"\n",
    "    if torch.rand(()) < epsilon:\n",
    "        # Choose a random action\n",
    "        return torch.randint(q_table.shape[-1], ()).item()\n",
    "    else:\n",
    "        # Given the current state, choose the best action in the Q-table\n",
    "        return q_table[state].argmax().item()"
   ]
  },
  {
   "cell_type": "markdown",
   "metadata": {},
   "source": [
    "# 3. Learning"
   ]
  },
  {
   "cell_type": "code",
   "execution_count": 6,
   "metadata": {},
   "outputs": [],
   "source": [
    "# Set hyperparameters\n",
    "LR = 0.1  # learning rate\n",
    "GAMMA = 0.99  # future reward discount rate\n",
    "\n",
    "# Initialize epsilon (exploration vs exploitation tradeoff) to 1.0 (full exploration)\n",
    "epsilon = 1.0\n",
    "\n",
    "# Initialize state to upper left\n",
    "state = 0"
   ]
  },
  {
   "cell_type": "markdown",
   "metadata": {},
   "source": [
    "## Learn for one time step\n",
    "\n",
    "1. Starting from the upper left square, choose an action using Epsilon greedy strategy\n",
    "    - assume we sampled move right (`action=1`)\n",
    "2. Perform action, get reward and next state\n",
    "\n",
    "![state1](assets/tiny-maze-state1.png)"
   ]
  },
  {
   "cell_type": "code",
   "execution_count": 7,
   "metadata": {},
   "outputs": [
    {
     "name": "stdout",
     "output_type": "stream",
     "text": [
      "state: 0, action: 1\n",
      "reward: 1.0, next_state: 1\n"
     ]
    }
   ],
   "source": [
    "# Choose an action using the Epsilon Greedy Strategy\n",
    "torch.manual_seed(6)\n",
    "action = get_action(q_table, state, epsilon)\n",
    "print(f\"state: {state}, action: {action}\")\n",
    "\n",
    "# Perform action At, get Rt+1 and St+1\n",
    "next_state = next_states[state, action].item()\n",
    "reward = REWARDS.flatten()[next_state].item()\n",
    "print(f\"reward: {reward}, next_state: {next_state}\")"
   ]
  },
  {
   "cell_type": "markdown",
   "metadata": {},
   "source": [
    " 3. Update `Q(St, At)`\n",
    "\n",
    " ![updated](assets/tiny-maze-update1.png)"
   ]
  },
  {
   "cell_type": "code",
   "execution_count": 8,
   "metadata": {},
   "outputs": [
    {
     "name": "stdout",
     "output_type": "stream",
     "text": [
      "\n",
      "Updated Q-table:\n",
      "   left  right   up  down\n",
      "0   0.0    0.1  0.0   0.0\n",
      "1   0.0    0.0  0.0   0.0\n",
      "2   0.0    0.0  0.0   0.0\n",
      "3   0.0    0.0  0.0   0.0\n",
      "4   0.0    0.0  0.0   0.0\n",
      "5   0.0    0.0  0.0   0.0\n"
     ]
    }
   ],
   "source": [
    "# Update q-table\n",
    "q_table = update_q_table(\n",
    "    q_table, (state, action), reward, next_state, gamma=GAMMA, learning_rate=LR\n",
    ")\n",
    "\n",
    "print(\"\\nUpdated Q-table:\")\n",
    "print(\n",
    "    pd.DataFrame(\n",
    "        data=q_table.numpy().round(2),\n",
    "        columns=[\"left\", \"right\", \"up\", \"down\"],\n",
    "    )\n",
    ")\n",
    "\n",
    "# Set state to next state\n",
    "state = next_state"
   ]
  },
  {
   "cell_type": "markdown",
   "metadata": {},
   "source": [
    "## Learn for another time step\n",
    "\n",
    "1. choose next action using Epsilon greedy strategy\n",
    "    - assume we sampled move down (`action=3`)\n",
    "2. Perform action, get reward and next state\n",
    "\n",
    "![state1](assets/tiny-maze-state2.png)"
   ]
  },
  {
   "cell_type": "code",
   "execution_count": 9,
   "metadata": {},
   "outputs": [
    {
     "name": "stdout",
     "output_type": "stream",
     "text": [
      "state: 1, action: 3\n",
      "reward: -10.0, next_state: 4\n",
      "\n",
      "Updated Q-table:\n",
      "   left  right   up  down\n",
      "0   0.0    0.1  0.0   0.0\n",
      "1   0.0    0.0  0.0  -1.0\n",
      "2   0.0    0.0  0.0   0.0\n",
      "3   0.0    0.0  0.0   0.0\n",
      "4   0.0    0.0  0.0   0.0\n",
      "5   0.0    0.0  0.0   0.0\n"
     ]
    }
   ],
   "source": [
    "state = next_state\n",
    "# Choose an action using the Epsilon Greedy Strategy\n",
    "torch.manual_seed(0)\n",
    "action = get_action(q_table, state, epsilon)\n",
    "print(f\"state: {state}, action: {action}\")\n",
    "\n",
    "# Perform action At, get Rt+1 and St+1\n",
    "next_state = next_states[state, action].item()\n",
    "reward = REWARDS.flatten()[next_state].item()\n",
    "print(f\"reward: {reward}, next_state: {next_state}\")\n",
    "\n",
    "# Update q-table\n",
    "q_table = update_q_table(\n",
    "    q_table,\n",
    "    (state, action),\n",
    "    reward,\n",
    "    None,  # episode terminated\n",
    "    gamma=GAMMA,\n",
    "    learning_rate=LR,\n",
    ")\n",
    "\n",
    "print(\"\\nUpdated Q-table:\")\n",
    "print(\n",
    "    pd.DataFrame(\n",
    "        data=q_table.numpy().round(2),\n",
    "        columns=[\"left\", \"right\", \"up\", \"down\"],\n",
    "    )\n",
    ")"
   ]
  },
  {
   "cell_type": "markdown",
   "metadata": {},
   "source": [
    "## Run for several episodes"
   ]
  },
  {
   "cell_type": "code",
   "execution_count": 10,
   "metadata": {},
   "outputs": [
    {
     "name": "stdout",
     "output_type": "stream",
     "text": [
      "\n",
      "Final Q-table:\n",
      "   left  right    up   down\n",
      "0  9.86  10.80  9.62   7.92\n",
      "1  9.81   9.90  7.48  -9.94\n",
      "2  7.39   9.22  9.06  10.00\n",
      "3  2.61  -7.71  9.37   3.25\n",
      "4  0.00   0.00  0.00   0.00\n",
      "5  0.00   0.00  0.00   0.00\n"
     ]
    },
    {
     "data": {
      "image/png": "[encoded data removed]",
      "text/plain": [
       "<Figure size 800x600 with 1 Axes>"
      ]
     },
     "metadata": {},
     "output_type": "display_data"
    }
   ],
   "source": [
    "torch.manual_seed(1234)\n",
    "EPSILON_DECAY = 0.995\n",
    "\n",
    "# Re-initialize Q-table\n",
    "q_table = init_q_table(NUM_STATES, NUM_ACTIONS)\n",
    "epsilon = 1.0\n",
    "\n",
    "total_rewards = []\n",
    "for _ in range(1_000):\n",
    "    total_reward = 0.0\n",
    "    num_steps = 0\n",
    "    state = 0\n",
    "    small_cheese_available = True\n",
    "\n",
    "    while num_steps < 5:\n",
    "        num_steps += 1\n",
    "\n",
    "        # Choose an action using the Epsilon Greedy Strategy\n",
    "        action = get_action(q_table, state, epsilon)\n",
    "\n",
    "        # Perform action At, get Rt+1 and St+1\n",
    "        next_state = next_states[state, action].item()\n",
    "        reward = REWARDS.flatten()[next_state].item()\n",
    "\n",
    "        # Check if small cheese is available\n",
    "        if reward == 1.0:\n",
    "            if small_cheese_available:\n",
    "                small_cheese_available = False\n",
    "            else:\n",
    "                reward = 0.0\n",
    "\n",
    "        # Update total reward\n",
    "        total_reward += reward\n",
    "\n",
    "        # Check if terminal condition\n",
    "        if int(reward) in (-10, 10) or num_steps == 5:\n",
    "            next_state = None\n",
    "\n",
    "        # Update q-table\n",
    "        q_table = update_q_table(\n",
    "            q_table, (state, action), reward, next_state, gamma=GAMMA, learning_rate=LR\n",
    "        )\n",
    "\n",
    "        if next_state is None:\n",
    "            break\n",
    "\n",
    "        # Set state to next state\n",
    "        state = next_state\n",
    "\n",
    "    total_rewards.append(total_reward)\n",
    "\n",
    "    # Decay epsilon\n",
    "    epsilon *= EPSILON_DECAY\n",
    "\n",
    "print(\"\\nFinal Q-table:\")\n",
    "print(\n",
    "    pd.DataFrame(\n",
    "        data=q_table.numpy().round(2),\n",
    "        columns=[\"left\", \"right\", \"up\", \"down\"],\n",
    "    )\n",
    ")\n",
    "\n",
    "_, ax = plt.subplots(figsize=(8, 6))\n",
    "ax.plot(total_rewards)\n",
    "ax.set_xlabel(\"Episode\")\n",
    "ax.set_ylabel(\"Total Reward\")\n",
    "ax.set_title(\"Total Reward vs Episode\");"
   ]
  },
  {
   "cell_type": "code",
   "execution_count": null,
   "metadata": {},
   "outputs": [],
   "source": []
  }
 ],
 "metadata": {
  "kernelspec": {
   "display_name": "r2seedo_default_3.10",
   "language": "python",
   "name": "python3"
  },
  "language_info": {
   "codemirror_mode": {
    "name": "ipython",
    "version": 3
   },
   "file_extension": ".py",
   "mimetype": "text/x-python",
   "name": "python",
   "nbconvert_exporter": "python",
   "pygments_lexer": "ipython3",
   "version": "3.11.8"
  }
 },
 "nbformat": 4,
 "nbformat_minor": 2
}
